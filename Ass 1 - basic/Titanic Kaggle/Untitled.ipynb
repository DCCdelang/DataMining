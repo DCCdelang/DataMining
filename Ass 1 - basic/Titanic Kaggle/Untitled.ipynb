{
 "cells": [
  {
   "cell_type": "code",
   "execution_count": 1,
   "metadata": {},
   "outputs": [],
   "source": [
    "#main libraries\n",
    "import os\n",
    "import re\n",
    "import pickle\n",
    "import numpy as np\n",
    "import pandas as pd\n",
    "\n",
    "#visualization libraries\n",
    "import matplotlib.pyplot as plt\n",
    "import seaborn as sns\n",
    "import plotly \n",
    "import plotly.graph_objs as go\n",
    "import plotly.io as pio\n",
    "from plotly.subplots import make_subplots\n",
    "import plotly.express as px\n",
    "from plotly.offline import iplot, init_notebook_mode\n"
   ]
  },
  {
   "cell_type": "code",
   "execution_count": 2,
   "metadata": {},
   "outputs": [],
   "source": [
    "train_df = pd.read_csv(\"Data/train.csv\")\n",
    "test_df  = pd.read_csv(\"Data/test.csv\")"
   ]
  },
  {
   "cell_type": "code",
   "execution_count": 3,
   "metadata": {},
   "outputs": [],
   "source": [
    "    full_df = pd.concat([train_df,test_df])\n",
    "\n",
    "    #make a copy of the original data\n",
    "    train_df_orig = train_df.copy()\n",
    "    test_df_orig = test_df.copy()\n",
    "    "
   ]
  },
  {
   "cell_type": "code",
   "execution_count": 8,
   "metadata": {},
   "outputs": [
    {
     "data": {
      "text/html": [
       "<style  type=\"text/css\" >\n",
       "#T_98e9238c_9b66_11eb_9a97_7c2a31272878row0_col0,#T_98e9238c_9b66_11eb_9a97_7c2a31272878row0_col1,#T_98e9238c_9b66_11eb_9a97_7c2a31272878row0_col3,#T_98e9238c_9b66_11eb_9a97_7c2a31272878row0_col4,#T_98e9238c_9b66_11eb_9a97_7c2a31272878row0_col5,#T_98e9238c_9b66_11eb_9a97_7c2a31272878row1_col5,#T_98e9238c_9b66_11eb_9a97_7c2a31272878row2_col5,#T_98e9238c_9b66_11eb_9a97_7c2a31272878row3_col1,#T_98e9238c_9b66_11eb_9a97_7c2a31272878row4_col2,#T_98e9238c_9b66_11eb_9a97_7c2a31272878row5_col2,#T_98e9238c_9b66_11eb_9a97_7c2a31272878row6_col2,#T_98e9238c_9b66_11eb_9a97_7c2a31272878row7_col5{\n",
       "            background-color:  #add8e6;\n",
       "            color:  #000000;\n",
       "        }#T_98e9238c_9b66_11eb_9a97_7c2a31272878row0_col2,#T_98e9238c_9b66_11eb_9a97_7c2a31272878row1_col0,#T_98e9238c_9b66_11eb_9a97_7c2a31272878row1_col4,#T_98e9238c_9b66_11eb_9a97_7c2a31272878row2_col0,#T_98e9238c_9b66_11eb_9a97_7c2a31272878row3_col0,#T_98e9238c_9b66_11eb_9a97_7c2a31272878row3_col3,#T_98e9238c_9b66_11eb_9a97_7c2a31272878row3_col4,#T_98e9238c_9b66_11eb_9a97_7c2a31272878row3_col5,#T_98e9238c_9b66_11eb_9a97_7c2a31272878row4_col0,#T_98e9238c_9b66_11eb_9a97_7c2a31272878row4_col3,#T_98e9238c_9b66_11eb_9a97_7c2a31272878row4_col4,#T_98e9238c_9b66_11eb_9a97_7c2a31272878row5_col0,#T_98e9238c_9b66_11eb_9a97_7c2a31272878row5_col3,#T_98e9238c_9b66_11eb_9a97_7c2a31272878row5_col4,#T_98e9238c_9b66_11eb_9a97_7c2a31272878row6_col4,#T_98e9238c_9b66_11eb_9a97_7c2a31272878row7_col0{\n",
       "            background-color:  #eff1f2;\n",
       "            color:  #000000;\n",
       "        }#T_98e9238c_9b66_11eb_9a97_7c2a31272878row1_col1{\n",
       "            background-color:  #ebeff1;\n",
       "            color:  #000000;\n",
       "        }#T_98e9238c_9b66_11eb_9a97_7c2a31272878row1_col2{\n",
       "            background-color:  #b2dae7;\n",
       "            color:  #000000;\n",
       "        }#T_98e9238c_9b66_11eb_9a97_7c2a31272878row1_col3,#T_98e9238c_9b66_11eb_9a97_7c2a31272878row2_col1,#T_98e9238c_9b66_11eb_9a97_7c2a31272878row2_col4,#T_98e9238c_9b66_11eb_9a97_7c2a31272878row7_col1,#T_98e9238c_9b66_11eb_9a97_7c2a31272878row7_col4{\n",
       "            background-color:  #eff1f1;\n",
       "            color:  #000000;\n",
       "        }#T_98e9238c_9b66_11eb_9a97_7c2a31272878row2_col2{\n",
       "            background-color:  #dceaee;\n",
       "            color:  #000000;\n",
       "        }#T_98e9238c_9b66_11eb_9a97_7c2a31272878row2_col3,#T_98e9238c_9b66_11eb_9a97_7c2a31272878row7_col3{\n",
       "            background-color:  #eef1f1;\n",
       "            color:  #000000;\n",
       "        }#T_98e9238c_9b66_11eb_9a97_7c2a31272878row3_col2{\n",
       "            background-color:  #d3e6ed;\n",
       "            color:  #000000;\n",
       "        }#T_98e9238c_9b66_11eb_9a97_7c2a31272878row4_col1{\n",
       "            background-color:  #e9eef0;\n",
       "            color:  #000000;\n",
       "        }#T_98e9238c_9b66_11eb_9a97_7c2a31272878row4_col5{\n",
       "            background-color:  #d5e7ed;\n",
       "            color:  #000000;\n",
       "        }#T_98e9238c_9b66_11eb_9a97_7c2a31272878row5_col1{\n",
       "            background-color:  #e8eef0;\n",
       "            color:  #000000;\n",
       "        }#T_98e9238c_9b66_11eb_9a97_7c2a31272878row5_col5{\n",
       "            background-color:  #cde4ec;\n",
       "            color:  #000000;\n",
       "        }#T_98e9238c_9b66_11eb_9a97_7c2a31272878row6_col0,#T_98e9238c_9b66_11eb_9a97_7c2a31272878row6_col3{\n",
       "            background-color:  #eef0f1;\n",
       "            color:  #000000;\n",
       "        }#T_98e9238c_9b66_11eb_9a97_7c2a31272878row6_col1{\n",
       "            background-color:  #eaeff1;\n",
       "            color:  #000000;\n",
       "        }#T_98e9238c_9b66_11eb_9a97_7c2a31272878row6_col5{\n",
       "            background-color:  #b9dde8;\n",
       "            color:  #000000;\n",
       "        }#T_98e9238c_9b66_11eb_9a97_7c2a31272878row7_col2{\n",
       "            background-color:  #e5edf0;\n",
       "            color:  #000000;\n",
       "        }</style><table id=\"T_98e9238c_9b66_11eb_9a97_7c2a31272878\" ><thead>    <tr>        <th class=\"blank level0\" ></th>        <th class=\"col_heading level0 col0\" >Survived</th>        <th class=\"col_heading level0 col1\" >Pclass</th>        <th class=\"col_heading level0 col2\" >Age</th>        <th class=\"col_heading level0 col3\" >SibSp</th>        <th class=\"col_heading level0 col4\" >Parch</th>        <th class=\"col_heading level0 col5\" >Fare</th>    </tr></thead><tbody>\n",
       "                <tr>\n",
       "                        <th id=\"T_98e9238c_9b66_11eb_9a97_7c2a31272878level0_row0\" class=\"row_heading level0 row0\" >count</th>\n",
       "                        <td id=\"T_98e9238c_9b66_11eb_9a97_7c2a31272878row0_col0\" class=\"data row0 col0\" >891.000000</td>\n",
       "                        <td id=\"T_98e9238c_9b66_11eb_9a97_7c2a31272878row0_col1\" class=\"data row0 col1\" >891.000000</td>\n",
       "                        <td id=\"T_98e9238c_9b66_11eb_9a97_7c2a31272878row0_col2\" class=\"data row0 col2\" >714.000000</td>\n",
       "                        <td id=\"T_98e9238c_9b66_11eb_9a97_7c2a31272878row0_col3\" class=\"data row0 col3\" >891.000000</td>\n",
       "                        <td id=\"T_98e9238c_9b66_11eb_9a97_7c2a31272878row0_col4\" class=\"data row0 col4\" >891.000000</td>\n",
       "                        <td id=\"T_98e9238c_9b66_11eb_9a97_7c2a31272878row0_col5\" class=\"data row0 col5\" >891.000000</td>\n",
       "            </tr>\n",
       "            <tr>\n",
       "                        <th id=\"T_98e9238c_9b66_11eb_9a97_7c2a31272878level0_row1\" class=\"row_heading level0 row1\" >mean</th>\n",
       "                        <td id=\"T_98e9238c_9b66_11eb_9a97_7c2a31272878row1_col0\" class=\"data row1 col0\" >0.383838</td>\n",
       "                        <td id=\"T_98e9238c_9b66_11eb_9a97_7c2a31272878row1_col1\" class=\"data row1 col1\" >2.308642</td>\n",
       "                        <td id=\"T_98e9238c_9b66_11eb_9a97_7c2a31272878row1_col2\" class=\"data row1 col2\" >29.699118</td>\n",
       "                        <td id=\"T_98e9238c_9b66_11eb_9a97_7c2a31272878row1_col3\" class=\"data row1 col3\" >0.523008</td>\n",
       "                        <td id=\"T_98e9238c_9b66_11eb_9a97_7c2a31272878row1_col4\" class=\"data row1 col4\" >0.381594</td>\n",
       "                        <td id=\"T_98e9238c_9b66_11eb_9a97_7c2a31272878row1_col5\" class=\"data row1 col5\" >32.204208</td>\n",
       "            </tr>\n",
       "            <tr>\n",
       "                        <th id=\"T_98e9238c_9b66_11eb_9a97_7c2a31272878level0_row2\" class=\"row_heading level0 row2\" >std</th>\n",
       "                        <td id=\"T_98e9238c_9b66_11eb_9a97_7c2a31272878row2_col0\" class=\"data row2 col0\" >0.486592</td>\n",
       "                        <td id=\"T_98e9238c_9b66_11eb_9a97_7c2a31272878row2_col1\" class=\"data row2 col1\" >0.836071</td>\n",
       "                        <td id=\"T_98e9238c_9b66_11eb_9a97_7c2a31272878row2_col2\" class=\"data row2 col2\" >14.526497</td>\n",
       "                        <td id=\"T_98e9238c_9b66_11eb_9a97_7c2a31272878row2_col3\" class=\"data row2 col3\" >1.102743</td>\n",
       "                        <td id=\"T_98e9238c_9b66_11eb_9a97_7c2a31272878row2_col4\" class=\"data row2 col4\" >0.806057</td>\n",
       "                        <td id=\"T_98e9238c_9b66_11eb_9a97_7c2a31272878row2_col5\" class=\"data row2 col5\" >49.693429</td>\n",
       "            </tr>\n",
       "            <tr>\n",
       "                        <th id=\"T_98e9238c_9b66_11eb_9a97_7c2a31272878level0_row3\" class=\"row_heading level0 row3\" >min</th>\n",
       "                        <td id=\"T_98e9238c_9b66_11eb_9a97_7c2a31272878row3_col0\" class=\"data row3 col0\" >0.000000</td>\n",
       "                        <td id=\"T_98e9238c_9b66_11eb_9a97_7c2a31272878row3_col1\" class=\"data row3 col1\" >1.000000</td>\n",
       "                        <td id=\"T_98e9238c_9b66_11eb_9a97_7c2a31272878row3_col2\" class=\"data row3 col2\" >0.420000</td>\n",
       "                        <td id=\"T_98e9238c_9b66_11eb_9a97_7c2a31272878row3_col3\" class=\"data row3 col3\" >0.000000</td>\n",
       "                        <td id=\"T_98e9238c_9b66_11eb_9a97_7c2a31272878row3_col4\" class=\"data row3 col4\" >0.000000</td>\n",
       "                        <td id=\"T_98e9238c_9b66_11eb_9a97_7c2a31272878row3_col5\" class=\"data row3 col5\" >0.000000</td>\n",
       "            </tr>\n",
       "            <tr>\n",
       "                        <th id=\"T_98e9238c_9b66_11eb_9a97_7c2a31272878level0_row4\" class=\"row_heading level0 row4\" >25%</th>\n",
       "                        <td id=\"T_98e9238c_9b66_11eb_9a97_7c2a31272878row4_col0\" class=\"data row4 col0\" >0.000000</td>\n",
       "                        <td id=\"T_98e9238c_9b66_11eb_9a97_7c2a31272878row4_col1\" class=\"data row4 col1\" >2.000000</td>\n",
       "                        <td id=\"T_98e9238c_9b66_11eb_9a97_7c2a31272878row4_col2\" class=\"data row4 col2\" >20.125000</td>\n",
       "                        <td id=\"T_98e9238c_9b66_11eb_9a97_7c2a31272878row4_col3\" class=\"data row4 col3\" >0.000000</td>\n",
       "                        <td id=\"T_98e9238c_9b66_11eb_9a97_7c2a31272878row4_col4\" class=\"data row4 col4\" >0.000000</td>\n",
       "                        <td id=\"T_98e9238c_9b66_11eb_9a97_7c2a31272878row4_col5\" class=\"data row4 col5\" >7.910400</td>\n",
       "            </tr>\n",
       "            <tr>\n",
       "                        <th id=\"T_98e9238c_9b66_11eb_9a97_7c2a31272878level0_row5\" class=\"row_heading level0 row5\" >50%</th>\n",
       "                        <td id=\"T_98e9238c_9b66_11eb_9a97_7c2a31272878row5_col0\" class=\"data row5 col0\" >0.000000</td>\n",
       "                        <td id=\"T_98e9238c_9b66_11eb_9a97_7c2a31272878row5_col1\" class=\"data row5 col1\" >3.000000</td>\n",
       "                        <td id=\"T_98e9238c_9b66_11eb_9a97_7c2a31272878row5_col2\" class=\"data row5 col2\" >28.000000</td>\n",
       "                        <td id=\"T_98e9238c_9b66_11eb_9a97_7c2a31272878row5_col3\" class=\"data row5 col3\" >0.000000</td>\n",
       "                        <td id=\"T_98e9238c_9b66_11eb_9a97_7c2a31272878row5_col4\" class=\"data row5 col4\" >0.000000</td>\n",
       "                        <td id=\"T_98e9238c_9b66_11eb_9a97_7c2a31272878row5_col5\" class=\"data row5 col5\" >14.454200</td>\n",
       "            </tr>\n",
       "            <tr>\n",
       "                        <th id=\"T_98e9238c_9b66_11eb_9a97_7c2a31272878level0_row6\" class=\"row_heading level0 row6\" >75%</th>\n",
       "                        <td id=\"T_98e9238c_9b66_11eb_9a97_7c2a31272878row6_col0\" class=\"data row6 col0\" >1.000000</td>\n",
       "                        <td id=\"T_98e9238c_9b66_11eb_9a97_7c2a31272878row6_col1\" class=\"data row6 col1\" >3.000000</td>\n",
       "                        <td id=\"T_98e9238c_9b66_11eb_9a97_7c2a31272878row6_col2\" class=\"data row6 col2\" >38.000000</td>\n",
       "                        <td id=\"T_98e9238c_9b66_11eb_9a97_7c2a31272878row6_col3\" class=\"data row6 col3\" >1.000000</td>\n",
       "                        <td id=\"T_98e9238c_9b66_11eb_9a97_7c2a31272878row6_col4\" class=\"data row6 col4\" >0.000000</td>\n",
       "                        <td id=\"T_98e9238c_9b66_11eb_9a97_7c2a31272878row6_col5\" class=\"data row6 col5\" >31.000000</td>\n",
       "            </tr>\n",
       "            <tr>\n",
       "                        <th id=\"T_98e9238c_9b66_11eb_9a97_7c2a31272878level0_row7\" class=\"row_heading level0 row7\" >max</th>\n",
       "                        <td id=\"T_98e9238c_9b66_11eb_9a97_7c2a31272878row7_col0\" class=\"data row7 col0\" >1.000000</td>\n",
       "                        <td id=\"T_98e9238c_9b66_11eb_9a97_7c2a31272878row7_col1\" class=\"data row7 col1\" >3.000000</td>\n",
       "                        <td id=\"T_98e9238c_9b66_11eb_9a97_7c2a31272878row7_col2\" class=\"data row7 col2\" >80.000000</td>\n",
       "                        <td id=\"T_98e9238c_9b66_11eb_9a97_7c2a31272878row7_col3\" class=\"data row7 col3\" >8.000000</td>\n",
       "                        <td id=\"T_98e9238c_9b66_11eb_9a97_7c2a31272878row7_col4\" class=\"data row7 col4\" >6.000000</td>\n",
       "                        <td id=\"T_98e9238c_9b66_11eb_9a97_7c2a31272878row7_col5\" class=\"data row7 col5\" >512.329200</td>\n",
       "            </tr>\n",
       "    </tbody></table>"
      ],
      "text/plain": [
       "<pandas.io.formats.style.Styler at 0x2a4e9cf85f8>"
      ]
     },
     "execution_count": 8,
     "metadata": {},
     "output_type": "execute_result"
    }
   ],
   "source": [
    "#describe our data\n",
    "train_df[train_df.select_dtypes(exclude='object').columns].drop('PassengerId',axis=1).describe().\\\n",
    "style.background_gradient(axis=1,cmap=sns.light_palette('lightblue', as_cmap=True))"
   ]
  },
  {
   "cell_type": "code",
   "execution_count": 10,
   "metadata": {},
   "outputs": [
    {
     "data": {
      "image/png": "[encoded data removed]",
      "text/plain": [
       "<Figure size 1440x432 with 2 Axes>"
      ]
     },
     "metadata": {
      "needs_background": "light"
     },
     "output_type": "display_data"
    }
   ],
   "source": [
    "#visuaize the null values in each column\n",
    "plt.figure(figsize=(20,6));\n",
    "sns.heatmap(train_df.isnull(), cmap='viridis');"
   ]
  },
  {
   "cell_type": "code",
   "execution_count": null,
   "metadata": {},
   "outputs": [],
   "source": []
  },
  {
   "cell_type": "code",
   "execution_count": null,
   "metadata": {},
   "outputs": [],
   "source": []
  },
  {
   "cell_type": "code",
   "execution_count": null,
   "metadata": {},
   "outputs": [],
   "source": []
  },
  {
   "cell_type": "code",
   "execution_count": null,
   "metadata": {},
   "outputs": [],
   "source": []
  },
  {
   "cell_type": "code",
   "execution_count": null,
   "metadata": {},
   "outputs": [],
   "source": []
  },
  {
   "cell_type": "code",
   "execution_count": null,
   "metadata": {},
   "outputs": [],
   "source": []
  },
  {
   "cell_type": "code",
   "execution_count": null,
   "metadata": {},
   "outputs": [],
   "source": []
  },
  {
   "cell_type": "code",
   "execution_count": null,
   "metadata": {},
   "outputs": [],
   "source": []
  },
  {
   "cell_type": "code",
   "execution_count": null,
   "metadata": {},
   "outputs": [],
   "source": []
  }
 ],
 "metadata": {
  "kernelspec": {
   "display_name": "Python 3",
   "language": "python",
   "name": "python3"
  },
  "language_info": {
   "codemirror_mode": {
    "name": "ipython",
    "version": 3
   },
   "file_extension": ".py",
   "mimetype": "text/x-python",
   "name": "python",
   "nbconvert_exporter": "python",
   "pygments_lexer": "ipython3",
   "version": "3.6.12"
  }
 },
 "nbformat": 4,
 "nbformat_minor": 4
}
